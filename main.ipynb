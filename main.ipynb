{
 "cells": [
  {
   "cell_type": "code",
   "execution_count": 1,
   "metadata": {},
   "outputs": [],
   "source": [
    "from indexer import Indexer\n",
    "from searcher import Searcher\n",
    "import cv2\n",
    "from libs.hashing import dhash, ahash, phash"
   ]
  },
  {
   "cell_type": "code",
   "execution_count": 4,
   "metadata": {},
   "outputs": [
    {
     "name": "stdout",
     "output_type": "stream",
     "text": [
      "Generating hash for images, images will be listed below if collision occurs\n"
     ]
    },
    {
     "name": "stderr",
     "output_type": "stream",
     "text": [
      "100%|██████████| 1548/1548 [00:01<00:00, 1208.56it/s]\n"
     ]
    },
    {
     "name": "stdout",
     "output_type": "stream",
     "text": [
      "\n",
      "Total collisions :  0\n"
     ]
    }
   ],
   "source": [
    "indexer = Indexer(\n",
    "    image_path=\"places/beach\",\n",
    "    database_path=\"Resources/Indexed/beach.pickle\",\n",
    "    algo=phash,\n",
    ")\n",
    "indexer.storeResults()"
   ]
  },
  {
   "cell_type": "code",
   "execution_count": 10,
   "metadata": {},
   "outputs": [
    {
     "name": "stdout",
     "output_type": "stream",
     "text": [
      "8 results fetched in 0.00502467155456543 seconds\n",
      "[(0, 'places/mountain/gsun_0b7151c4e31012a268c1b998ead38e18.jpg'), (17, 'places/beach/gsun_3b2c1eabb74aa5eacaf5e1cb34d1e573.jpg'), (17, 'places/mountain/gsun_19a13cfb4b925de90cb813a1e9ed0773.jpg'), (18, 'places/beach/gsun_292618c6b58ca580a96ec849da9d37e8.jpg'), (18, 'places/beach/gsun_30eadbed4aad9a947930729a18ab036a.jpg'), (18, 'places/mountain/gsun_049753b55336c9216df56a4d77b4f756.jpg'), (18, 'places/mountain/gsun_3296c2a4d904c7f4dcc5fc4c79f42373.jpg'), (19, 'places/mountain/gsun_2254b58cb49f76cc3c45ecfcddfaa265.jpg')]\n"
     ]
    }
   ],
   "source": [
    "query_image = cv2.imread(\"Resources/test4.jpg\")\n",
    "\n",
    "searcher = Searcher(\n",
    "    database_path=\"Resources/Indexed/db.pickle\"\n",
    ")\n",
    "\n",
    "results = searcher.search(query_image, precision=20, show_results=True)"
   ]
  }
 ],
 "metadata": {
  "kernelspec": {
   "display_name": "hash_hunt",
   "language": "python",
   "name": "python3"
  },
  "language_info": {
   "codemirror_mode": {
    "name": "ipython",
    "version": 3
   },
   "file_extension": ".py",
   "mimetype": "text/x-python",
   "name": "python",
   "nbconvert_exporter": "python",
   "pygments_lexer": "ipython3",
   "version": "3.9.16"
  },
  "orig_nbformat": 4
 },
 "nbformat": 4,
 "nbformat_minor": 2
}
